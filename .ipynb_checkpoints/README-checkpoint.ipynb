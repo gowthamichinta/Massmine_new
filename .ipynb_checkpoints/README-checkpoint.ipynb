{
 "cells": [
  {
   "cell_type": "markdown",
   "metadata": {},
   "source": [
    "## Massmine-For-The-Masses"
   ]
  },
  {
   "cell_type": "markdown",
   "metadata": {},
   "source": [
    "### Massmine-For-The-Masses is an open-source, proof of concept tool. It extends the functionality of Massmine, a command-line interface which is a data gathering tool. This Massmine-For-The-Masses has a graphical user interface which allows users to see the data being collected from different platforms like Twitter, Tumblr. The collected data will also be presented in a simple user interface to allow for basic analysis. This project is an improvement of the existing project(https://github.com/AnushaVanama/Massmine-for-the-Masses) where all web pages are redisigned  and rearranged to enhance the user experience and offer smooth navigation throughout its design.\n",
    "\n",
    "### Team Members\n",
    "#### 1. Sadhana Thummalapenta\n",
    "#### 2. Gowthami Chinta\n"
   ]
  },
  {
   "cell_type": "code",
   "execution_count": null,
   "metadata": {},
   "outputs": [],
   "source": []
  },
  {
   "cell_type": "code",
   "execution_count": null,
   "metadata": {},
   "outputs": [],
   "source": []
  }
 ],
 "metadata": {
  "kernelspec": {
   "display_name": "Python 3",
   "language": "python",
   "name": "python3"
  },
  "language_info": {
   "codemirror_mode": {
    "name": "ipython",
    "version": 3
   },
   "file_extension": ".py",
   "mimetype": "text/x-python",
   "name": "python",
   "nbconvert_exporter": "python",
   "pygments_lexer": "ipython3",
   "version": "3.7.6"
  }
 },
 "nbformat": 4,
 "nbformat_minor": 4
}
